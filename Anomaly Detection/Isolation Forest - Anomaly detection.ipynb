{
 "cells": [
  {
   "cell_type": "markdown",
   "id": "2af43d98",
   "metadata": {},
   "source": [
    "<b>Anomaly/Outlier</b><br>\n",
    "Any data point/observation that deviates significantly from the other observations is called an Anomaly/Outlier.<br>\n",
    "Anomaly detection is important and finds its application in various domains like detection of fraudulent bank transactions, network intrusion detection, sudden rise/drop in sales, change in customer behavior, etc.\n",
    "\n",
    "Isolation Forests – an unsupervised anomaly detection technique\n",
    "\n",
    "This approach employs binary trees to detect anomalies, resulting in a linear time complexity and low memory usage that is well-suited for processing large datasets."
   ]
  },
  {
   "cell_type": "markdown",
   "id": "8dcdae89",
   "metadata": {},
   "source": [
    "<b>\" IsolationForests were built based on the fact that anomalies are the data points that are 'few and different' \"</b>"
   ]
  },
  {
   "cell_type": "markdown",
   "id": "bffcbed3",
   "metadata": {},
   "source": [
    "In an Isolation Forest, randomly sub-sampled data is processed in a tree structure based on randomly selected features. The samples that travel deeper into the tree are less likely to be anomalies as they required more cuts to isolate them. Similarly, the samples which end up in shorter branches indicate anomalies as it was easier for the tree to separate them from other observations.\n",
    "\n",
    "The process of spliting of features is repeated until every leaf of the tree represents a single data point from the dataset\n",
    "\n",
    "When performing inference using a trained Isolation Forest model the final anomaly score is reported as the average across scores reported by each individual decision tree.(which is the average of the depth of that points given from all the isolated trees)"
   ]
  },
  {
   "cell_type": "markdown",
   "id": "83c35e23",
   "metadata": {},
   "source": [
    "Reference Links : <br>\n",
    "https://medium.com/@corymaklin/isolation-forest-799fceacdda4<br>\n",
    "https://www.analyticsvidhya.com/blog/2021/07/anomaly-detection-using-isolation-forest-a-complete-guide/"
   ]
  },
  {
   "attachments": {},
   "cell_type": "markdown",
   "id": "e9b04b5d",
   "metadata": {},
   "source": [
    "<b>Anomaly Score Formula</b><br>\n",
    "$$\n",
    "s(x,m) = 2^\\frac{-E(h(x))}{c(m)}\n",
    "$$<br>\n",
    "where E(h(x)) is the average value of h(x) from a collection of iTrees. It is interesting to note that for any given instance:<br>\n",
    "    1. if s is close to 1 them x is very likely to be an anomaly<br>\n",
    "    2. if s is smaller than 0.5 then x is likely to be normal value<br>\n",
    "    3. if for a given sample all instances are assigned an anomaly score of around 0.5, then it is safe to assume that the<br> \n",
    "       sample doesn't have any anomaly"
   ]
  },
  {
   "cell_type": "code",
   "execution_count": 17,
   "id": "cd022c95",
   "metadata": {},
   "outputs": [],
   "source": [
    "from sklearn.datasets import make_regression\n",
    "import pandas as pd\n",
    "import matplotlib.pyplot as plt"
   ]
  },
  {
   "cell_type": "code",
   "execution_count": 40,
   "id": "0baa9125",
   "metadata": {},
   "outputs": [
    {
     "data": {
      "text/plain": [
       "array([[ 0.25049285,  0.34644821],\n",
       "       [ 0.05820872, -1.1429703 ],\n",
       "       [ 0.21409374, -1.24573878],\n",
       "       [-0.83921752, -0.30921238],\n",
       "       [ 0.36163603, -0.64511975]])"
      ]
     },
     "execution_count": 40,
     "metadata": {},
     "output_type": "execute_result"
    }
   ],
   "source": [
    "X, y = make_regression(n_samples=150, n_features=2, noise=1, random_state=42)\n",
    "X[:5]"
   ]
  },
  {
   "cell_type": "code",
   "execution_count": 16,
   "id": "f956aca7",
   "metadata": {},
   "outputs": [
    {
     "data": {
      "text/html": [
       "<div>\n",
       "<style scoped>\n",
       "    .dataframe tbody tr th:only-of-type {\n",
       "        vertical-align: middle;\n",
       "    }\n",
       "\n",
       "    .dataframe tbody tr th {\n",
       "        vertical-align: top;\n",
       "    }\n",
       "\n",
       "    .dataframe thead th {\n",
       "        text-align: right;\n",
       "    }\n",
       "</style>\n",
       "<table border=\"1\" class=\"dataframe\">\n",
       "  <thead>\n",
       "    <tr style=\"text-align: right;\">\n",
       "      <th></th>\n",
       "      <th>0</th>\n",
       "      <th>1</th>\n",
       "    </tr>\n",
       "  </thead>\n",
       "  <tbody>\n",
       "    <tr>\n",
       "      <th>0</th>\n",
       "      <td>0.250493</td>\n",
       "      <td>0.346448</td>\n",
       "    </tr>\n",
       "    <tr>\n",
       "      <th>1</th>\n",
       "      <td>0.058209</td>\n",
       "      <td>-1.142970</td>\n",
       "    </tr>\n",
       "    <tr>\n",
       "      <th>2</th>\n",
       "      <td>0.214094</td>\n",
       "      <td>-1.245739</td>\n",
       "    </tr>\n",
       "    <tr>\n",
       "      <th>3</th>\n",
       "      <td>-0.839218</td>\n",
       "      <td>-0.309212</td>\n",
       "    </tr>\n",
       "    <tr>\n",
       "      <th>4</th>\n",
       "      <td>0.361636</td>\n",
       "      <td>-0.645120</td>\n",
       "    </tr>\n",
       "  </tbody>\n",
       "</table>\n",
       "</div>"
      ],
      "text/plain": [
       "          0         1\n",
       "0  0.250493  0.346448\n",
       "1  0.058209 -1.142970\n",
       "2  0.214094 -1.245739\n",
       "3 -0.839218 -0.309212\n",
       "4  0.361636 -0.645120"
      ]
     },
     "execution_count": 16,
     "metadata": {},
     "output_type": "execute_result"
    }
   ],
   "source": [
    "df=pd.DataFrame(X)\n",
    "df.head()"
   ]
  },
  {
   "cell_type": "code",
   "execution_count": 18,
   "id": "80035867",
   "metadata": {},
   "outputs": [
    {
     "data": {
      "text/plain": [
       "<matplotlib.collections.PathCollection at 0x24244a295b0>"
      ]
     },
     "execution_count": 18,
     "metadata": {},
     "output_type": "execute_result"
    },
    {
     "data": {
      "image/png": "[encoded data removed]",
      "text/plain": [
       "<Figure size 640x480 with 1 Axes>"
      ]
     },
     "metadata": {},
     "output_type": "display_data"
    }
   ],
   "source": [
    "plt.scatter(df.iloc[:,0],df.iloc[:,1])"
   ]
  },
  {
   "cell_type": "code",
   "execution_count": 19,
   "id": "9d6f34a5",
   "metadata": {},
   "outputs": [],
   "source": [
    "from sklearn.ensemble import IsolationForest"
   ]
  },
  {
   "cell_type": "code",
   "execution_count": 34,
   "id": "fcc3c046",
   "metadata": {},
   "outputs": [],
   "source": [
    "clf = IsolationForest(contamination=0.2)\n",
    "clf.fit(df)\n",
    "predictions = clf.predict(df)"
   ]
  },
  {
   "cell_type": "code",
   "execution_count": 35,
   "id": "aef4c045",
   "metadata": {},
   "outputs": [
    {
     "data": {
      "text/plain": [
       "array([ 1,  1,  1,  1,  1,  1, -1,  1,  1,  1,  1,  1,  1, -1,  1,  1,  1,\n",
       "        1,  1, -1,  1,  1,  1,  1,  1, -1, -1,  1,  1,  1,  1,  1,  1,  1,\n",
       "        1,  1,  1, -1, -1, -1, -1,  1, -1,  1,  1,  1,  1,  1,  1, -1,  1,\n",
       "       -1,  1,  1, -1,  1, -1,  1,  1,  1,  1,  1,  1,  1,  1,  1,  1,  1,\n",
       "        1,  1,  1, -1, -1,  1,  1, -1,  1,  1, -1,  1,  1,  1, -1,  1,  1,\n",
       "       -1,  1,  1,  1,  1,  1,  1, -1,  1,  1,  1, -1,  1,  1,  1, -1,  1,\n",
       "        1, -1,  1,  1,  1,  1,  1,  1,  1, -1,  1,  1,  1,  1,  1,  1,  1,\n",
       "        1, -1,  1, -1,  1,  1, -1, -1,  1,  1,  1,  1,  1,  1,  1,  1,  1,\n",
       "       -1,  1,  1,  1,  1,  1,  1,  1,  1,  1,  1,  1,  1,  1])"
      ]
     },
     "execution_count": 35,
     "metadata": {},
     "output_type": "execute_result"
    }
   ],
   "source": [
    "predictions"
   ]
  },
  {
   "cell_type": "code",
   "execution_count": 36,
   "id": "588e79d3",
   "metadata": {},
   "outputs": [
    {
     "data": {
      "text/plain": [
       "(array([  6,  13,  19,  25,  26,  37,  38,  39,  40,  42,  49,  51,  54,\n",
       "         56,  71,  72,  75,  78,  82,  85,  92,  96, 100, 103, 111, 120,\n",
       "        122, 125, 126, 136], dtype=int64),)"
      ]
     },
     "execution_count": 36,
     "metadata": {},
     "output_type": "execute_result"
    }
   ],
   "source": [
    "import numpy as np\n",
    "index = np.where(predictions<0)\n",
    "index"
   ]
  },
  {
   "cell_type": "code",
   "execution_count": 37,
   "id": "397cc059",
   "metadata": {},
   "outputs": [],
   "source": [
    "x=df.values"
   ]
  },
  {
   "cell_type": "code",
   "execution_count": 38,
   "id": "6e7b6cb6",
   "metadata": {},
   "outputs": [
    {
     "data": {
      "text/plain": [
       "<matplotlib.collections.PathCollection at 0x242483104c0>"
      ]
     },
     "execution_count": 38,
     "metadata": {},
     "output_type": "execute_result"
    },
    {
     "data": {
      "image/png": "[encoded data removed]",
      "text/plain": [
       "<Figure size 640x480 with 1 Axes>"
      ]
     },
     "metadata": {},
     "output_type": "display_data"
    }
   ],
   "source": [
    "index = np.where(predictions<0)\n",
    "plt.scatter(df.iloc[:,0],df.iloc[:,1])\n",
    "plt.scatter(x[index,0],x[index,1],edgecolors='r')"
   ]
  },
  {
   "cell_type": "code",
   "execution_count": null,
   "id": "f4a474cd",
   "metadata": {},
   "outputs": [],
   "source": []
  }
 ],
 "metadata": {
  "kernelspec": {
   "display_name": "Python 3 (ipykernel)",
   "language": "python",
   "name": "python3"
  },
  "language_info": {
   "codemirror_mode": {
    "name": "ipython",
    "version": 3
   },
   "file_extension": ".py",
   "mimetype": "text/x-python",
   "name": "python",
   "nbconvert_exporter": "python",
   "pygments_lexer": "ipython3",
   "version": "3.9.13"
  }
 },
 "nbformat": 4,
 "nbformat_minor": 5
}
